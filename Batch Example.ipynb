{
 "cells": [
  {
   "cell_type": "markdown",
   "metadata": {},
   "source": [
    "# Surrogate Modeling Batch Example\n",
    "This example does not use the iterative procedure from the paper. It simply compares the performance of the XGBoost Surrogate Model against the Kriging Model."
   ]
  },
  {
   "cell_type": "markdown",
   "metadata": {},
   "source": [
    "## Let's setup our environment"
   ]
  },
  {
   "cell_type": "markdown",
   "metadata": {
    "ExecuteTime": {
     "end_time": "2017-09-19T14:01:24.151521Z",
     "start_time": "2017-09-19T14:01:24.140350Z"
    }
   },
   "source": [
    "### First let's increase the width of our workspace"
   ]
  },
  {
   "cell_type": "code",
   "execution_count": 2,
   "metadata": {
    "ExecuteTime": {
     "end_time": "2017-09-19T14:01:26.906397Z",
     "start_time": "2017-09-19T14:01:26.860481Z"
    }
   },
   "outputs": [
    {
     "data": {
      "text/html": [
       "<style>.container { width:100% !important; }</style>"
      ],
      "text/plain": [
       "<IPython.core.display.HTML object>"
      ]
     },
     "metadata": {},
     "output_type": "display_data"
    }
   ],
   "source": [
    "from IPython.core.display import display, HTML\n",
    "display(HTML(\"<style>.container { width:100% !important; }</style>\"))"
   ]
  },
  {
   "cell_type": "markdown",
   "metadata": {},
   "source": [
    "### Let's get the imports and functions we need from functions.py"
   ]
  },
  {
   "cell_type": "code",
   "execution_count": 3,
   "metadata": {
    "ExecuteTime": {
     "end_time": "2017-09-19T14:01:56.811103Z",
     "start_time": "2017-09-19T14:01:54.985059Z"
    },
    "collapsed": true
   },
   "outputs": [],
   "source": [
    "# Imports\n",
    "from functions import *"
   ]
  },
  {
   "cell_type": "markdown",
   "metadata": {},
   "source": [
    "### Initialize the parameters and constants"
   ]
  },
  {
   "cell_type": "code",
   "execution_count": 5,
   "metadata": {
    "ExecuteTime": {
     "end_time": "2017-09-19T14:04:43.836937Z",
     "start_time": "2017-09-19T14:04:43.824214Z"
    },
    "collapsed": true
   },
   "outputs": [],
   "source": [
    "# Set the ABM Evaluation Budget\n",
    "budget = 1000\n",
    "\n",
    "# Set the Calibration Threshold\n",
    "calibration_threshold = 1\n",
    "\n",
    "# Set the ABM parameters and support\n",
    "islands_exploration_range = np.array([\\\n",
    "        (0,10), # rho\n",
    "        (0.8,2), # alpha\n",
    "        (0.0,1.0), # phi\n",
    "        (0.0,1.0), # pi                                     \n",
    "        (0.0,1.0), # eps\n",
    "        (10,100), # N\n",
    "        (0.0,1.0)]) # Lambda\n",
    "\n",
    "param_dims = islands_exploration_range.shape[0]"
   ]
  },
  {
   "cell_type": "markdown",
   "metadata": {},
   "source": [
    "## Evaluate entire Budget in Batch"
   ]
  },
  {
   "cell_type": "code",
   "execution_count": null,
   "metadata": {
    "ExecuteTime": {
     "start_time": "2017-09-19T14:04:44.655Z"
    }
   },
   "outputs": [
    {
     "name": "stderr",
     "output_type": "stream",
     "text": [
      "functions.py:258: RuntimeWarning: divide by zero encountered in log\n",
      "  log_GDP = np.log(GDP)\n"
     ]
    }
   ],
   "source": [
    "n_dimensions = islands_exploration_range.shape[0]\n",
    "\n",
    "final_evaluated_set_X = get_sobol_samples(n_dimensions, budget, islands_exploration_range)\n",
    "evaluated_set_y = evaluate_islands_on_set(final_evaluated_set_X)"
   ]
  },
  {
   "cell_type": "markdown",
   "metadata": {},
   "source": [
    "# Batch comparison\n",
    "This is a simple comparison to show how Kriging compares to XGBoost on the exact same ABM evalutions"
   ]
  },
  {
   "cell_type": "markdown",
   "metadata": {},
   "source": [
    "## Kriging Surrogate"
   ]
  },
  {
   "cell_type": "code",
   "execution_count": null,
   "metadata": {
    "ExecuteTime": {
     "start_time": "2017-09-19T14:04:49.670Z"
    },
    "collapsed": true
   },
   "outputs": [],
   "source": [
    "surrogate_models_kriging.append(kriging(final_evaluated_set_X, evaluated_set_y, testfunction=island_abm, random_state=0))"
   ]
  },
  {
   "cell_type": "markdown",
   "metadata": {},
   "source": [
    "## XGBoost Surrogate"
   ]
  },
  {
   "cell_type": "code",
   "execution_count": null,
   "metadata": {
    "ExecuteTime": {
     "start_time": "2017-09-19T14:04:51.627Z"
    },
    "collapsed": true
   },
   "outputs": [],
   "source": [
    "surrogate_model, surrogate_parameter_space = set_surrogate_as_gbt()\n",
    "surrogate_model_XGBoost = fit_surrogate_model(final_evaluated_set_X,evaluated_set_y, \n",
    "                                              surrogate_model=surrogate_model, \n",
    "                                              surrogate_parameter_space=surrogate_parameter_space)"
   ]
  },
  {
   "cell_type": "markdown",
   "metadata": {
    "collapsed": true
   },
   "source": [
    "# Out-of-Sample Evaluation\n",
    "Let's test the performance between the two approaches on 100 random draws from the\n",
    "space of parameters, conditioned on not being the same parameters from the set used\n",
    "to train the surrogates above."
   ]
  },
  {
   "cell_type": "code",
   "execution_count": null,
   "metadata": {
    "ExecuteTime": {
     "start_time": "2017-09-19T14:20:51.393Z"
    },
    "collapsed": true
   },
   "outputs": [],
   "source": [
    "# Evaluate on out-of-sample test set\n",
    "test_size = 100\n",
    "montecarlos = 100\n",
    "\n",
    "final_test_size = (test_size*montecarlos)\n",
    "\n",
    "mse_perf = np.zeros((2,montecarlos))\n",
    "\n",
    "# Generate unique test set\n",
    "oos_set = get_sobol_samples(n_dimensions, final_test_size, islands_exploration_range)\n",
    "\n",
    "selections = []\n",
    "for i,v in enumerate(oos_set):\n",
    "    if (v not in final_evaluated_set_X[0]) and (v not in final_evaluated_set_X[1]):\n",
    "        selections.append(i)\n",
    "oos_set = oos_set[selections]\n",
    "\n",
    "while oos_set.shape[0]<final_test_size:\n",
    "    oos_set = np.vstack([oos_set,get_sobol_samples(n_dimensions, \n",
    "                                                   final_test_size, \n",
    "                                                   islands_exploration_range)])\n",
    "oos_set = oos_set[:final_test_size]\n",
    "\n",
    "y_test = evaluate_islands_on_set(oos_set)\n",
    "\n",
    "# Evaluate Test Set Performance\n",
    "for _KRIGING in [0,1]:\n",
    "    if _KRIGING:\n",
    "        y_hat_test = np.array([surrogate_models[_KRIGING].predict(v) for v in oos_set])\n",
    "    else:\n",
    "        y_hat_test = surrogate_models[_KRIGING].predict(oos_set)\n",
    "\n",
    "    # MSE performance\n",
    "    for i in range(montecarlos):\n",
    "        mse_perf[_KRIGING,i] = mean_squared_error(y_test[i:(i+1)*test_size],\n",
    "                                                  y_hat_test[i:(i+1)*test_size])"
   ]
  },
  {
   "cell_type": "markdown",
   "metadata": {},
   "source": [
    "## Plot the densities for each of the methods"
   ]
  },
  {
   "cell_type": "code",
   "execution_count": null,
   "metadata": {
    "ExecuteTime": {
     "start_time": "2017-09-19T14:20:54.023Z"
    },
    "collapsed": true
   },
   "outputs": [],
   "source": [
    "# Plot Performance Results\n",
    "import matplotlib.pylab as plt\n",
    "import seaborn as sns\n",
    "%matplotlib inline\n",
    "\n",
    "# Plot labels\n",
    "experiment_labels = [\"XGBoost\",\"Kriging\"]\n",
    "\n",
    "fig,ax = plt.subplots(figsize=(12, 5), dpi=300)\n",
    "\n",
    "xgb_label = \"XGBoost: Mean\" + str(mse_perf[0].mean()) + \", Variance\" + str(mse_perf[0].var())\n",
    "k_label = \"Kriging: Mean\" + str(mse_perf[1].mean()) + \", Variance\" + str(mse_perf[1].var())\n",
    "\n",
    "fig1 = sns.distplot(mse_perf[0], label = xgb_label, ax=ax)\n",
    "fig2 = sns.distplot(mse_perf[1], label = k_label, ax=ax)\n",
    "plt.title(\"Out-Of-Sample Prediction Performance\")\n",
    "plt.xlabel('Mean-Squared Error')\n",
    "plt.yticks(fig1.get_yticks(), fig1.get_yticks() / 10000)\n",
    "plt.ylabel('Density')\n",
    "plt.legend()\n",
    "fig.savefig(\"xgboost_kriging_ba_comparison_\" + str(budget) + \".png\");"
   ]
  },
  {
   "cell_type": "code",
   "execution_count": null,
   "metadata": {
    "collapsed": true
   },
   "outputs": [],
   "source": []
  }
 ],
 "metadata": {
  "kernelspec": {
   "display_name": "Python 2",
   "language": "python",
   "name": "python2"
  },
  "language_info": {
   "codemirror_mode": {
    "name": "ipython",
    "version": 2
   },
   "file_extension": ".py",
   "mimetype": "text/x-python",
   "name": "python",
   "nbconvert_exporter": "python",
   "pygments_lexer": "ipython2",
   "version": "2.7.13"
  },
  "widgets": {
   "state": {},
   "version": "1.1.2"
  }
 },
 "nbformat": 4,
 "nbformat_minor": 1
}
