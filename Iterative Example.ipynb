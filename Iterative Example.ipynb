{
 "cells": [
  {
   "cell_type": "code",
   "execution_count": 1,
   "metadata": {
    "ExecuteTime": {
     "end_time": "2017-09-26T05:51:52.642988Z",
     "start_time": "2017-09-26T05:51:52.634014Z"
    }
   },
   "outputs": [
    {
     "data": {
      "text/html": [
       "<style>.container { width:100% !important; }</style>"
      ],
      "text/plain": [
       "<IPython.core.display.HTML object>"
      ]
     },
     "metadata": {},
     "output_type": "display_data"
    }
   ],
   "source": [
    "from IPython.core.display import display, HTML\n",
    "display(HTML(\"<style>.container { width:100% !important; }</style>\"))"
   ]
  },
  {
   "cell_type": "code",
   "execution_count": 2,
   "metadata": {
    "ExecuteTime": {
     "end_time": "2017-09-26T05:51:52.966266Z",
     "start_time": "2017-09-26T05:51:52.881248Z"
    },
    "collapsed": true
   },
   "outputs": [],
   "source": [
    "%load_ext autoreload\n",
    "%autoreload 2"
   ]
  },
  {
   "cell_type": "code",
   "execution_count": 3,
   "metadata": {
    "ExecuteTime": {
     "end_time": "2017-09-26T05:51:54.421956Z",
     "start_time": "2017-09-26T05:51:54.367912Z"
    },
    "collapsed": true
   },
   "outputs": [],
   "source": [
    "# %%writefile example.py\n",
    "\n",
    "# Imports\n",
    "from functions import *\n",
    "\n",
    "# 0. Initialize\n",
    "# Set ABM Evaluation Budget\n",
    "budget = 100\n",
    "\n",
    "# Set Calibration Threshold\n",
    "calibration_threshold = 1\n",
    "\n",
    "# Run Comparison\n",
    "experiment_labels = [\"XGBoost\",\"Kriging\"]"
   ]
  },
  {
   "cell_type": "markdown",
   "metadata": {},
   "source": [
    "### Initialize the parameters and constants"
   ]
  },
  {
   "cell_type": "code",
   "execution_count": 4,
   "metadata": {
    "ExecuteTime": {
     "end_time": "2017-09-26T05:51:57.401220Z",
     "start_time": "2017-09-26T05:51:57.336444Z"
    },
    "collapsed": true
   },
   "outputs": [],
   "source": [
    "# Set ABM parameters and support\n",
    "islands_exploration_range = np.array([\\\n",
    "        (0,10), # rho\n",
    "        (0.8,2), # alpha\n",
    "        (0.0,1.0), # phi\n",
    "        (0.0,1.0), # pi                                     \n",
    "        (0.0,1.0), # eps\n",
    "        (10,100), # N\n",
    "        (0.0,1.0)]) # Lambda\n",
    "\n",
    "n_dimensions = islands_exploration_range.shape[0]"
   ]
  },
  {
   "cell_type": "markdown",
   "metadata": {},
   "source": [
    "# Iterative comparison\n",
    "This is a simple comparison to show how Kriging compares to XGBoost on the exact same ABM evalutions. As the examples are iteratively selected by XGBoost, we want to show how Kriging performs on these exact same samples. "
   ]
  },
  {
   "cell_type": "markdown",
   "metadata": {},
   "source": [
    "## XGBoost Surrogate"
   ]
  },
  {
   "cell_type": "code",
   "execution_count": null,
   "metadata": {
    "ExecuteTime": {
     "end_time": "2017-09-27T06:17:49.798335Z",
     "start_time": "2017-09-26T06:25:01.575322Z"
    }
   },
   "outputs": [],
   "source": [
    "_KRIGING = 0\n",
    "surrogate_models = [None,None]\n",
    "tic()\n",
    "surrogate_models[_KRIGING], evaluated_set_X, evaluated_set_y = run_online_surrogate(budget, n_dimensions, islands_exploration_range, calibration_threshold)\n",
    "print \"Time: \", toc()"
   ]
  },
  {
   "cell_type": "markdown",
   "metadata": {},
   "source": [
    "## Kriging Surrogate"
   ]
  },
  {
   "cell_type": "code",
   "execution_count": null,
   "metadata": {
    "ExecuteTime": {
     "start_time": "2017-09-28T06:26:13.348Z"
    },
    "collapsed": true
   },
   "outputs": [],
   "source": [
    "_KRIGING = 1\n",
    "tic()\n",
    "surrogate_models[_KRIGING] = kriging(evaluated_set_X, evaluated_set_y, testfunction=island_abm, random_state=0)\n",
    "surrogate_models[_KRIGING].train()\n",
    "print \"Time: \", toc()"
   ]
  },
  {
   "cell_type": "markdown",
   "metadata": {
    "collapsed": true
   },
   "source": [
    "# Out-of-Sample Evaluation\n",
    "Let's test the performance between the two approaches on 100 random draws from the\n",
    "space of parameters, conditioned on not being the same parameters from the set used\n",
    "to train the surrogates above."
   ]
  },
  {
   "cell_type": "code",
   "execution_count": null,
   "metadata": {
    "ExecuteTime": {
     "start_time": "2017-09-28T06:26:14.180Z"
    },
    "collapsed": true
   },
   "outputs": [],
   "source": [
    "# Evaluate on out-of-sample test set\n",
    "test_size = 100\n",
    "montecarlos = 100\n",
    "\n",
    "final_test_size = (test_size*montecarlos)\n",
    "\n",
    "mse_perf = np.zeros((2,montecarlos))\n",
    "\n",
    "# Generate unique test set\n",
    "oos_set = get_sobol_samples(n_dimensions, final_test_size, islands_exploration_range)\n",
    "\n",
    "selections = []\n",
    "for i,v in enumerate(oos_set):\n",
    "    if v not in evaluated_set_X:\n",
    "        selections.append(i)\n",
    "oos_set = oos_set[selections]\n",
    "\n",
    "while oos_set.shape[0]<final_test_size:\n",
    "    oos_set = np.vstack([oos_set,get_sobol_samples(n_dimensions, \n",
    "                                                   final_test_size, \n",
    "                                                   islands_exploration_range)])\n",
    "oos_set = oos_set[:final_test_size]\n",
    "\n",
    "y_test = evaluate_islands_on_set(oos_set)"
   ]
  },
  {
   "cell_type": "code",
   "execution_count": null,
   "metadata": {
    "ExecuteTime": {
     "start_time": "2017-09-28T06:26:14.878Z"
    },
    "collapsed": true
   },
   "outputs": [],
   "source": [
    "# Evaluate Test Set Performance\n",
    "for _KRIGING in [0,1]:\n",
    "    if _KRIGING:\n",
    "        tic()\n",
    "        y_hat_test = np.array([surrogate_models[_KRIGING].predict(v) for v in oos_set])\n",
    "        print \"Time: \", toc()\n",
    "    else:\n",
    "        tic()\n",
    "        y_hat_test = surrogate_models[_KRIGING].predict(oos_set)\n",
    "        print \"Time: \", toc()\n",
    "\n",
    "    # MSE performance\n",
    "    for i in range(montecarlos):\n",
    "        mse_perf[_KRIGING,i] = mean_squared_error(y_test[i:(i+1)*test_size],\n",
    "                                                  y_hat_test[i:(i+1)*test_size])"
   ]
  },
  {
   "cell_type": "markdown",
   "metadata": {},
   "source": [
    "## Plot the densities for each of the methods"
   ]
  },
  {
   "cell_type": "code",
   "execution_count": null,
   "metadata": {
    "ExecuteTime": {
     "start_time": "2017-09-28T06:26:15.957Z"
    },
    "collapsed": true
   },
   "outputs": [],
   "source": [
    "# Plot Performance Results\n",
    "import matplotlib.pylab as plt\n",
    "import seaborn as sns\n",
    "%matplotlib inline\n",
    "\n",
    "fig,ax = plt.subplots(figsize=(12, 5), dpi=300)\n",
    "\n",
    "xgb_label = \"XGBoost: Mean\" + str(mse_perf[0].mean()) + \", Variance\" + str(mse_perf[0].var())\n",
    "k_label = \"Kriging: Mean\" + str(mse_perf[1].mean()) + \", Variance\" + str(mse_perf[1].var())\n",
    "\n",
    "fig1 = sns.distplot(mse_perf[0], label = xgb_label, ax=ax)\n",
    "fig2 = sns.distplot(mse_perf[1], label = k_label, ax=ax)\n",
    "plt.title(\"Out-Of-Sample Prediction Performance\")\n",
    "plt.xlabel('Mean-Squared Error')\n",
    "plt.yticks(fig1.get_yticks(), fig1.get_yticks() / 10000)\n",
    "plt.ylabel('Density')\n",
    "plt.legend()\n",
    "fig.savefig(\"xgboost_kriging_it_comparison_\" + str(budget) + \".png\");"
   ]
  },
  {
   "cell_type": "code",
   "execution_count": null,
   "metadata": {
    "collapsed": true
   },
   "outputs": [],
   "source": []
  },
  {
   "cell_type": "code",
   "execution_count": null,
   "metadata": {
    "collapsed": true
   },
   "outputs": [],
   "source": []
  },
  {
   "cell_type": "code",
   "execution_count": null,
   "metadata": {
    "collapsed": true
   },
   "outputs": [],
   "source": []
  }
 ],
 "metadata": {
  "kernelspec": {
   "display_name": "Python 2",
   "language": "python",
   "name": "python2"
  },
  "language_info": {
   "codemirror_mode": {
    "name": "ipython",
    "version": 2
   },
   "file_extension": ".py",
   "mimetype": "text/x-python",
   "name": "python",
   "nbconvert_exporter": "python",
   "pygments_lexer": "ipython2",
   "version": "2.7.13"
  },
  "widgets": {
   "state": {},
   "version": "1.1.2"
  }
 },
 "nbformat": 4,
 "nbformat_minor": 1
}
