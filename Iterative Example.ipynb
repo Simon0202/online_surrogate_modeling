{
 "cells": [
  {
   "cell_type": "code",
   "execution_count": 1,
   "metadata": {
    "ExecuteTime": {
     "end_time": "2017-09-19T14:10:25.504931Z",
     "start_time": "2017-09-19T14:10:25.446047Z"
    }
   },
   "outputs": [
    {
     "data": {
      "text/html": [
       "<style>.container { width:100% !important; }</style>"
      ],
      "text/plain": [
       "<IPython.core.display.HTML object>"
      ]
     },
     "metadata": {},
     "output_type": "display_data"
    }
   ],
   "source": [
    "from IPython.core.display import display, HTML\n",
    "display(HTML(\"<style>.container { width:100% !important; }</style>\"))"
   ]
  },
  {
   "cell_type": "code",
   "execution_count": 4,
   "metadata": {
    "ExecuteTime": {
     "end_time": "2017-09-19T14:10:31.348371Z",
     "start_time": "2017-09-19T14:10:31.341371Z"
    },
    "collapsed": true
   },
   "outputs": [],
   "source": [
    "# %%writefile example.py\n",
    "\n",
    "# Imports\n",
    "from functions import *\n",
    "\n",
    "# 0. Initialize\n",
    "# Set ABM Evaluation Budget\n",
    "budget = 50\n",
    "\n",
    "# Set Calibration Threshold\n",
    "calibration_threshold = 1\n",
    "\n",
    "# Run Comparison\n",
    "experiment_labels = [\"XGBoost\",\"Kriging\"]"
   ]
  },
  {
   "cell_type": "markdown",
   "metadata": {},
   "source": [
    "### Initialize the parameters and constants"
   ]
  },
  {
   "cell_type": "code",
   "execution_count": 6,
   "metadata": {
    "ExecuteTime": {
     "end_time": "2017-09-19T14:19:01.723946Z",
     "start_time": "2017-09-19T14:19:01.708106Z"
    },
    "collapsed": true
   },
   "outputs": [],
   "source": [
    "# Set ABM parameters and support\n",
    "islands_exploration_range = np.array([\\\n",
    "        (0,10), # rho\n",
    "        (0.8,2), # alpha\n",
    "        (0.0,1.0), # phi\n",
    "        (0.0,1.0), # pi                                     \n",
    "        (0.0,1.0), # eps\n",
    "        (10,100), # N\n",
    "        (0.0,1.0)]) # Lambda\n",
    "\n",
    "n_dimensions = islands_exploration_range.shape[0]"
   ]
  },
  {
   "cell_type": "markdown",
   "metadata": {},
   "source": [
    "# Iterative comparison\n",
    "This is a simple comparison to show how Kriging compares to XGBoost on the exact same ABM evalutions. As the examples are iteratively selected by XGBoost, we want to show how Kriging performs on these exact same samples. "
   ]
  },
  {
   "cell_type": "markdown",
   "metadata": {},
   "source": [
    "## XGBoost Surrogate"
   ]
  },
  {
   "cell_type": "code",
   "execution_count": 7,
   "metadata": {
    "ExecuteTime": {
     "end_time": "2017-09-19T14:43:51.022493Z",
     "start_time": "2017-09-19T14:19:18.335495Z"
    }
   },
   "outputs": [
    {
     "name": "stdout",
     "output_type": "stream",
     "text": [
      "XGBoost Started!\n"
     ]
    },
    {
     "name": "stderr",
     "output_type": "stream",
     "text": [
      "functions.py:258: RuntimeWarning: divide by zero encountered in log\n",
      "  log_GDP = np.log(GDP)\n"
     ]
    },
    {
     "name": "stdout",
     "output_type": "stream",
     "text": [
      "Evaluated set size:  14\n"
     ]
    },
    {
     "ename": "NameError",
     "evalue": "global name '_KRIGING' is not defined",
     "output_type": "error",
     "traceback": [
      "\u001b[0;31m---------------------------------------------------------------------------\u001b[0m",
      "\u001b[0;31mNameError\u001b[0m                                 Traceback (most recent call last)",
      "\u001b[0;32m<ipython-input-7-3426070a0a85>\u001b[0m in \u001b[0;36m<module>\u001b[0;34m()\u001b[0m\n\u001b[1;32m      1\u001b[0m \u001b[0m_KRIGING\u001b[0m \u001b[0;34m=\u001b[0m \u001b[0;36m0\u001b[0m\u001b[0;34m\u001b[0m\u001b[0m\n\u001b[0;32m----> 2\u001b[0;31m \u001b[0msurrogate_models\u001b[0m\u001b[0;34m[\u001b[0m\u001b[0m_KRIGING\u001b[0m\u001b[0;34m]\u001b[0m\u001b[0;34m,\u001b[0m \u001b[0mevaluated_set_X\u001b[0m\u001b[0;34m,\u001b[0m \u001b[0mevaluated_set_y\u001b[0m \u001b[0;34m=\u001b[0m \u001b[0mrun_online_surrogate\u001b[0m\u001b[0;34m(\u001b[0m\u001b[0mbudget\u001b[0m\u001b[0;34m,\u001b[0m \u001b[0mn_dimensions\u001b[0m\u001b[0;34m,\u001b[0m \u001b[0mislands_exploration_range\u001b[0m\u001b[0;34m,\u001b[0m \u001b[0mcalibration_threshold\u001b[0m\u001b[0;34m)\u001b[0m\u001b[0;34m\u001b[0m\u001b[0m\n\u001b[0m",
      "\u001b[0;32m/home/amir/Big Vienna/ABM EXAMPLE CODE/functions.pyc\u001b[0m in \u001b[0;36mrun_online_surrogate\u001b[0;34m(budget, n_dimensions, islands_exploration_range, calibration_threshold)\u001b[0m\n\u001b[1;32m    528\u001b[0m                 \u001b[0mpredicted_positives\u001b[0m\u001b[0;34m,\u001b[0m \u001b[0mnum_predicted_positives\u001b[0m\u001b[0;34m,\u001b[0m\u001b[0;34m\u001b[0m\u001b[0m\n\u001b[1;32m    529\u001b[0m                 \u001b[0msamples_to_select\u001b[0m\u001b[0;34m,\u001b[0m\u001b[0;34m\u001b[0m\u001b[0m\n\u001b[0;32m--> 530\u001b[0;31m                 budget)\n\u001b[0m\u001b[1;32m    531\u001b[0m \u001b[0;34m\u001b[0m\u001b[0m\n\u001b[1;32m    532\u001b[0m     \u001b[0;31m# 6. Output Final Surrogate Model\u001b[0m\u001b[0;34m\u001b[0m\u001b[0;34m\u001b[0m\u001b[0m\n",
      "\u001b[0;32m/home/amir/Big Vienna/ABM EXAMPLE CODE/functions.pyc\u001b[0m in \u001b[0;36mget_round_selections\u001b[0;34m(evaluated_set_X, evaluated_set_y, unevaluated_set_X, predicted_positives, num_predicted_positives, samples_to_select, budget)\u001b[0m\n\u001b[1;32m    582\u001b[0m                                get_new_labels_entropy(evaluated_set_X, evaluated_set_y,\n\u001b[1;32m    583\u001b[0m                                                       \u001b[0munevaluated_set_X\u001b[0m\u001b[0;34m,\u001b[0m\u001b[0;34m\u001b[0m\u001b[0m\n\u001b[0;32m--> 584\u001b[0;31m                                                       budget_shortfall))\n\u001b[0m\u001b[1;32m    585\u001b[0m \u001b[0;34m\u001b[0m\u001b[0m\n\u001b[1;32m    586\u001b[0m     \u001b[0;32melse\u001b[0m\u001b[0;34m:\u001b[0m \u001b[0;31m# if we don't have any predicted positive calibrations\u001b[0m\u001b[0;34m\u001b[0m\u001b[0m\n",
      "\u001b[0;32m/home/amir/Big Vienna/ABM EXAMPLE CODE/functions.pyc\u001b[0m in \u001b[0;36mget_new_labels_entropy\u001b[0;34m(evaluated_set_X, evaluated_set_y, unevaluated_X, number_of_new_labels)\u001b[0m\n\u001b[1;32m    602\u001b[0m \u001b[0;34m\u001b[0m\u001b[0m\n\u001b[1;32m    603\u001b[0m     \"\"\"\n\u001b[0;32m--> 604\u001b[0;31m     \u001b[0;32mif\u001b[0m \u001b[0m_KRIGING\u001b[0m\u001b[0;34m:\u001b[0m\u001b[0;34m\u001b[0m\u001b[0m\n\u001b[0m\u001b[1;32m    605\u001b[0m         \u001b[0mclf\u001b[0m \u001b[0;34m=\u001b[0m \u001b[0mGaussianProcessClassifier\u001b[0m\u001b[0;34m(\u001b[0m\u001b[0;34m)\u001b[0m\u001b[0;34m\u001b[0m\u001b[0m\n\u001b[1;32m    606\u001b[0m         \u001b[0mclf\u001b[0m\u001b[0;34m.\u001b[0m\u001b[0mfit\u001b[0m\u001b[0;34m(\u001b[0m\u001b[0mevaluated_set_X\u001b[0m\u001b[0;34m,\u001b[0m\u001b[0mcalibration_condition\u001b[0m\u001b[0;34m(\u001b[0m\u001b[0mevaluated_set_y\u001b[0m\u001b[0;34m,\u001b[0m\u001b[0mcalibration_threshold\u001b[0m\u001b[0;34m)\u001b[0m\u001b[0;34m)\u001b[0m\u001b[0;34m\u001b[0m\u001b[0m\n",
      "\u001b[0;31mNameError\u001b[0m: global name '_KRIGING' is not defined"
     ]
    }
   ],
   "source": [
    "_KRIGING = 0\n",
    "surrogate_models[_KRIGING], evaluated_set_X, evaluated_set_y = run_online_surrogate(budget, n_dimensions, islands_exploration_range, calibration_threshold)"
   ]
  },
  {
   "cell_type": "markdown",
   "metadata": {},
   "source": [
    "## Kriging Surrogate"
   ]
  },
  {
   "cell_type": "code",
   "execution_count": null,
   "metadata": {
    "ExecuteTime": {
     "end_time": "2017-09-19T14:43:51.026204Z",
     "start_time": "2017-09-19T14:19:24.427Z"
    },
    "collapsed": true
   },
   "outputs": [],
   "source": [
    "_KRIGING = 1\n",
    "surrogate_models[_KRIGING] = kriging(evaluated_set_X, evaluated_set_y, testfunction=island_abm, random_state=0)\n",
    "surrogate_models[_KRIGING].train()"
   ]
  },
  {
   "cell_type": "markdown",
   "metadata": {
    "collapsed": true
   },
   "source": [
    "# Out-of-Sample Evaluation\n",
    "Let's test the performance between the two approaches on 100 random draws from the\n",
    "space of parameters, conditioned on not being the same parameters from the set used\n",
    "to train the surrogates above."
   ]
  },
  {
   "cell_type": "code",
   "execution_count": null,
   "metadata": {
    "ExecuteTime": {
     "end_time": "2017-09-19T14:43:51.029439Z",
     "start_time": "2017-09-19T14:20:22.075Z"
    },
    "collapsed": true
   },
   "outputs": [],
   "source": [
    "# Evaluate on out-of-sample test set\n",
    "test_size = 100\n",
    "montecarlos = 100\n",
    "\n",
    "final_test_size = (test_size*montecarlos)\n",
    "\n",
    "mse_perf = np.zeros((2,montecarlos))\n",
    "\n",
    "# Generate unique test set\n",
    "oos_set = get_sobol_samples(n_dimensions, final_test_size, islands_exploration_range)\n",
    "\n",
    "selections = []\n",
    "for i,v in enumerate(oos_set):\n",
    "    if (v not in final_evaluated_set_X[0]) and (v not in final_evaluated_set_X[1]):\n",
    "        selections.append(i)\n",
    "oos_set = oos_set[selections]\n",
    "\n",
    "while oos_set.shape[0]<final_test_size:\n",
    "    oos_set = np.vstack([oos_set,get_sobol_samples(n_dimensions, \n",
    "                                                   final_test_size, \n",
    "                                                   islands_exploration_range)])\n",
    "oos_set = oos_set[:final_test_size]\n",
    "\n",
    "y_test = evaluate_islands_on_set(oos_set)\n",
    "\n",
    "# Evaluate Test Set Performance\n",
    "for _KRIGING in [0,1]:\n",
    "    if _KRIGING:\n",
    "        y_hat_test = np.array([surrogate_models[_KRIGING].predict(v) for v in oos_set])\n",
    "    else:\n",
    "        y_hat_test = surrogate_models[_KRIGING].predict(oos_set)\n",
    "\n",
    "    # MSE performance\n",
    "    for i in range(montecarlos):\n",
    "        mse_perf[_KRIGING,i] = mean_squared_error(y_test[i:(i+1)*test_size],\n",
    "                                                  y_hat_test[i:(i+1)*test_size])"
   ]
  },
  {
   "cell_type": "markdown",
   "metadata": {},
   "source": [
    "## Plot the densities for each of the methods"
   ]
  },
  {
   "cell_type": "code",
   "execution_count": null,
   "metadata": {
    "ExecuteTime": {
     "end_time": "2017-09-19T14:43:51.032697Z",
     "start_time": "2017-09-19T14:20:57.216Z"
    },
    "collapsed": true
   },
   "outputs": [],
   "source": [
    "# Plot Performance Results\n",
    "import matplotlib.pylab as plt\n",
    "import seaborn as sns\n",
    "%matplotlib inline\n",
    "\n",
    "fig,ax = plt.subplots(figsize=(12, 5), dpi=300)\n",
    "\n",
    "xgb_label = \"XGBoost: Mean\" + str(mse_perf[0].mean()) + \", Variance\" + str(mse_perf[0].var())\n",
    "k_label = \"Kriging: Mean\" + str(mse_perf[1].mean()) + \", Variance\" + str(mse_perf[1].var())\n",
    "\n",
    "fig1 = sns.distplot(mse_perf[0], label = xgb_label, ax=ax)\n",
    "fig2 = sns.distplot(mse_perf[1], label = k_label, ax=ax)\n",
    "plt.title(\"Out-Of-Sample Prediction Performance\")\n",
    "plt.xlabel('Mean-Squared Error')\n",
    "plt.yticks(fig1.get_yticks(), fig1.get_yticks() / 10000)\n",
    "plt.ylabel('Density')\n",
    "plt.legend()\n",
    "fig.savefig(\"xgboost_kriging_it_comparison_\" + str(budget) + \".png\");"
   ]
  },
  {
   "cell_type": "code",
   "execution_count": null,
   "metadata": {
    "collapsed": true
   },
   "outputs": [],
   "source": []
  }
 ],
 "metadata": {
  "kernelspec": {
   "display_name": "Python 2",
   "language": "python",
   "name": "python2"
  },
  "language_info": {
   "codemirror_mode": {
    "name": "ipython",
    "version": 2
   },
   "file_extension": ".py",
   "mimetype": "text/x-python",
   "name": "python",
   "nbconvert_exporter": "python",
   "pygments_lexer": "ipython2",
   "version": "2.7.13"
  },
  "widgets": {
   "state": {},
   "version": "1.1.2"
  }
 },
 "nbformat": 4,
 "nbformat_minor": 1
}
